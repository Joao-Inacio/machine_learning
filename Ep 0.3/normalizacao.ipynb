{
 "cells": [
  {
   "attachments": {},
   "cell_type": "markdown",
   "metadata": {},
   "source": [
    "# Normalizando o Conjunto de Dados - Machine Learning 03"
   ]
  },
  {
   "attachments": {},
   "cell_type": "markdown",
   "metadata": {},
   "source": [
    "### Importação"
   ]
  },
  {
   "cell_type": "code",
   "execution_count": 1,
   "metadata": {},
   "outputs": [],
   "source": [
    "# Libs\n",
    "import numpy as np\n",
    "import pandas as pd"
   ]
  },
  {
   "attachments": {},
   "cell_type": "markdown",
   "metadata": {},
   "source": [
    "### Base de dados"
   ]
  },
  {
   "cell_type": "code",
   "execution_count": 2,
   "metadata": {},
   "outputs": [
    {
     "data": {
      "text/html": [
       "<div>\n",
       "<style scoped>\n",
       "    .dataframe tbody tr th:only-of-type {\n",
       "        vertical-align: middle;\n",
       "    }\n",
       "\n",
       "    .dataframe tbody tr th {\n",
       "        vertical-align: top;\n",
       "    }\n",
       "\n",
       "    .dataframe thead th {\n",
       "        text-align: right;\n",
       "    }\n",
       "</style>\n",
       "<table border=\"1\" class=\"dataframe\">\n",
       "  <thead>\n",
       "    <tr style=\"text-align: right;\">\n",
       "      <th></th>\n",
       "      <th>Name</th>\n",
       "      <th>GRE Score</th>\n",
       "      <th>TOEFL Score</th>\n",
       "      <th>University Rating</th>\n",
       "      <th>SOP</th>\n",
       "      <th>LOR</th>\n",
       "      <th>CGPA</th>\n",
       "      <th>Research</th>\n",
       "      <th>Approval</th>\n",
       "    </tr>\n",
       "  </thead>\n",
       "  <tbody>\n",
       "    <tr>\n",
       "      <th>0</th>\n",
       "      <td>Lucas</td>\n",
       "      <td>337</td>\n",
       "      <td>118</td>\n",
       "      <td>4</td>\n",
       "      <td>4.5</td>\n",
       "      <td>4.5</td>\n",
       "      <td>9.65</td>\n",
       "      <td>1</td>\n",
       "      <td>1</td>\n",
       "    </tr>\n",
       "    <tr>\n",
       "      <th>1</th>\n",
       "      <td>Ana</td>\n",
       "      <td>324</td>\n",
       "      <td>107</td>\n",
       "      <td>4</td>\n",
       "      <td>4.0</td>\n",
       "      <td>4.5</td>\n",
       "      <td>8.87</td>\n",
       "      <td>1</td>\n",
       "      <td>1</td>\n",
       "    </tr>\n",
       "    <tr>\n",
       "      <th>2</th>\n",
       "      <td>Jose</td>\n",
       "      <td>316</td>\n",
       "      <td>104</td>\n",
       "      <td>3</td>\n",
       "      <td>3.0</td>\n",
       "      <td>3.5</td>\n",
       "      <td>8.00</td>\n",
       "      <td>1</td>\n",
       "      <td>1</td>\n",
       "    </tr>\n",
       "    <tr>\n",
       "      <th>3</th>\n",
       "      <td>Carlos</td>\n",
       "      <td>322</td>\n",
       "      <td>110</td>\n",
       "      <td>3</td>\n",
       "      <td>3.5</td>\n",
       "      <td>2.5</td>\n",
       "      <td>8.67</td>\n",
       "      <td>1</td>\n",
       "      <td>1</td>\n",
       "    </tr>\n",
       "    <tr>\n",
       "      <th>4</th>\n",
       "      <td>Zileide</td>\n",
       "      <td>314</td>\n",
       "      <td>103</td>\n",
       "      <td>2</td>\n",
       "      <td>2.0</td>\n",
       "      <td>3.0</td>\n",
       "      <td>8.21</td>\n",
       "      <td>0</td>\n",
       "      <td>0</td>\n",
       "    </tr>\n",
       "  </tbody>\n",
       "</table>\n",
       "</div>"
      ],
      "text/plain": [
       "      Name  GRE Score  TOEFL Score  University Rating  SOP  LOR  CGPA   \n",
       "0    Lucas        337          118                  4  4.5  4.5  9.65  \\\n",
       "1      Ana        324          107                  4  4.0  4.5  8.87   \n",
       "2     Jose        316          104                  3  3.0  3.5  8.00   \n",
       "3   Carlos        322          110                  3  3.5  2.5  8.67   \n",
       "4  Zileide        314          103                  2  2.0  3.0  8.21   \n",
       "\n",
       "   Research  Approval  \n",
       "0         1         1  \n",
       "1         1         1  \n",
       "2         1         1  \n",
       "3         1         1  \n",
       "4         0         0  "
      ]
     },
     "execution_count": 2,
     "metadata": {},
     "output_type": "execute_result"
    }
   ],
   "source": [
    "# Dados\n",
    "ds = pd.read_csv('../data/admission.csv', sep=';')\n",
    "ds.head()"
   ]
  },
  {
   "attachments": {},
   "cell_type": "markdown",
   "metadata": {},
   "source": [
    "### Separando os Valores"
   ]
  },
  {
   "cell_type": "code",
   "execution_count": 3,
   "metadata": {},
   "outputs": [
    {
     "data": {
      "text/plain": [
       "array([['Lucas', 337, 118, 4, 4.5, 4.5, 9.65, 1],\n",
       "       ['Ana', 324, 107, 4, 4.0, 4.5, 8.87, 1],\n",
       "       ['Jose', 316, 104, 3, 3.0, 3.5, 8.0, 1],\n",
       "       ['Carlos', 322, 110, 3, 3.5, 2.5, 8.67, 1],\n",
       "       ['Zileide', 314, 103, 2, 2.0, 3.0, 8.21, 0],\n",
       "       ['Joana', 330, 115, 5, 4.5, 3.0, 9.34, 1],\n",
       "       ['Davi', 321, 109, 3, 3.0, 4.0, 8.2, 1],\n",
       "       ['Daniel', 308, 101, 2, 3.0, 4.0, 7.9, 0],\n",
       "       ['Marcelo', 302, 102, 1, 2.0, 1.5, 8.0, 0]], dtype=object)"
      ]
     },
     "execution_count": 3,
     "metadata": {},
     "output_type": "execute_result"
    }
   ],
   "source": [
    "# Amostra\n",
    "X =ds.iloc[:, 0:8].values\n",
    "X"
   ]
  },
  {
   "cell_type": "code",
   "execution_count": 4,
   "metadata": {},
   "outputs": [
    {
     "data": {
      "text/plain": [
       "array([1, 1, 1, 1, 0, 1, 1, 0, 0], dtype=int64)"
      ]
     },
     "execution_count": 4,
     "metadata": {},
     "output_type": "execute_result"
    }
   ],
   "source": [
    "# Variável independente \n",
    "y = ds.iloc[:, 8].values\n",
    "y"
   ]
  },
  {
   "attachments": {},
   "cell_type": "markdown",
   "metadata": {},
   "source": [
    "### Transformando os valores"
   ]
  },
  {
   "cell_type": "code",
   "execution_count": 5,
   "metadata": {},
   "outputs": [
    {
     "data": {
      "text/plain": [
       "array([[0.0, 0.0, 0.0, 0.0, 0.0, 0.0, 1.0, 0.0, 0.0, 337, 118, 4, 4.5,\n",
       "        4.5, 9.65, 1],\n",
       "       [1.0, 0.0, 0.0, 0.0, 0.0, 0.0, 0.0, 0.0, 0.0, 324, 107, 4, 4.0,\n",
       "        4.5, 8.87, 1],\n",
       "       [0.0, 0.0, 0.0, 0.0, 0.0, 1.0, 0.0, 0.0, 0.0, 316, 104, 3, 3.0,\n",
       "        3.5, 8.0, 1],\n",
       "       [0.0, 1.0, 0.0, 0.0, 0.0, 0.0, 0.0, 0.0, 0.0, 322, 110, 3, 3.5,\n",
       "        2.5, 8.67, 1],\n",
       "       [0.0, 0.0, 0.0, 0.0, 0.0, 0.0, 0.0, 0.0, 1.0, 314, 103, 2, 2.0,\n",
       "        3.0, 8.21, 0],\n",
       "       [0.0, 0.0, 0.0, 0.0, 1.0, 0.0, 0.0, 0.0, 0.0, 330, 115, 5, 4.5,\n",
       "        3.0, 9.34, 1],\n",
       "       [0.0, 0.0, 0.0, 1.0, 0.0, 0.0, 0.0, 0.0, 0.0, 321, 109, 3, 3.0,\n",
       "        4.0, 8.2, 1],\n",
       "       [0.0, 0.0, 1.0, 0.0, 0.0, 0.0, 0.0, 0.0, 0.0, 308, 101, 2, 3.0,\n",
       "        4.0, 7.9, 0],\n",
       "       [0.0, 0.0, 0.0, 0.0, 0.0, 0.0, 0.0, 1.0, 0.0, 302, 102, 1, 2.0,\n",
       "        1.5, 8.0, 0]], dtype=object)"
      ]
     },
     "execution_count": 5,
     "metadata": {},
     "output_type": "execute_result"
    }
   ],
   "source": [
    "# Lib\n",
    "from sklearn.preprocessing import OneHotEncoder\n",
    "from sklearn.compose import make_column_transformer\n",
    "onehotencoder = make_column_transformer(\n",
    "    (\n",
    "        OneHotEncoder(categories='auto', sparse_output=False),\n",
    "        [0]\n",
    "    ), \n",
    "    remainder=\"passthrough\"\n",
    ")\n",
    "X = onehotencoder.fit_transform(X)\n",
    "X"
   ]
  },
  {
   "attachments": {},
   "cell_type": "markdown",
   "metadata": {},
   "source": [
    "### Dividindo a base de Treino e Teste"
   ]
  },
  {
   "cell_type": "code",
   "execution_count": 6,
   "metadata": {},
   "outputs": [
    {
     "data": {
      "text/plain": [
       "array([[0.0, 0.0, 0.0, 0.0, 0.0, 0.0, 1.0, 0.0, 0.0, 337, 118, 4, 4.5,\n",
       "        4.5, 9.65, 1],\n",
       "       [0.0, 0.0, 0.0, 0.0, 1.0, 0.0, 0.0, 0.0, 0.0, 330, 115, 5, 4.5,\n",
       "        3.0, 9.34, 1],\n",
       "       [1.0, 0.0, 0.0, 0.0, 0.0, 0.0, 0.0, 0.0, 0.0, 324, 107, 4, 4.0,\n",
       "        4.5, 8.87, 1],\n",
       "       [0.0, 1.0, 0.0, 0.0, 0.0, 0.0, 0.0, 0.0, 0.0, 322, 110, 3, 3.5,\n",
       "        2.5, 8.67, 1],\n",
       "       [0.0, 0.0, 0.0, 0.0, 0.0, 0.0, 0.0, 1.0, 0.0, 302, 102, 1, 2.0,\n",
       "        1.5, 8.0, 0],\n",
       "       [0.0, 0.0, 1.0, 0.0, 0.0, 0.0, 0.0, 0.0, 0.0, 308, 101, 2, 3.0,\n",
       "        4.0, 7.9, 0],\n",
       "       [0.0, 0.0, 0.0, 0.0, 0.0, 0.0, 0.0, 0.0, 1.0, 314, 103, 2, 2.0,\n",
       "        3.0, 8.21, 0]], dtype=object)"
      ]
     },
     "execution_count": 6,
     "metadata": {},
     "output_type": "execute_result"
    }
   ],
   "source": [
    "# Treino e Teste\n",
    "from sklearn.model_selection import train_test_split\n",
    "X_train, X_test, y_train, y_test = train_test_split(\n",
    "    X, y, test_size=0.2\n",
    ")\n",
    "X_train"
   ]
  },
  {
   "attachments": {},
   "cell_type": "markdown",
   "metadata": {},
   "source": [
    "### Normalizando o Conjunto de Dados"
   ]
  },
  {
   "cell_type": "code",
   "execution_count": 7,
   "metadata": {},
   "outputs": [
    {
     "data": {
      "text/plain": [
       "array([[-0.40824829, -0.40824829, -0.40824829,  0.        , -0.40824829,\n",
       "         0.        ,  2.44948974, -0.40824829, -0.40824829,  1.52714907,\n",
       "         1.62834737,  0.76376262,  1.15470054,  1.17873792,  1.58876185,\n",
       "         0.8660254 ],\n",
       "       [-0.40824829, -0.40824829, -0.40824829,  0.        ,  2.44948974,\n",
       "         0.        , -0.40824829, -0.40824829, -0.40824829,  0.91378592,\n",
       "         1.13984316,  1.52752523,  1.15470054, -0.2773501 ,  1.08983085,\n",
       "         0.8660254 ],\n",
       "       [ 2.44948974, -0.40824829, -0.40824829,  0.        , -0.40824829,\n",
       "         0.        , -0.40824829, -0.40824829, -0.40824829,  0.38804607,\n",
       "        -0.16283474,  0.76376262,  0.64951905,  1.17873792,  0.33338707,\n",
       "         0.8660254 ],\n",
       "       [-0.40824829,  2.44948974, -0.40824829,  0.        , -0.40824829,\n",
       "         0.        , -0.40824829, -0.40824829, -0.40824829,  0.21279946,\n",
       "         0.32566947,  0.        ,  0.14433757, -0.76271277,  0.01149611,\n",
       "         0.8660254 ],\n",
       "       [-0.40824829, -0.40824829, -0.40824829,  0.        , -0.40824829,\n",
       "         0.        , -0.40824829,  2.44948974, -0.40824829, -1.53966668,\n",
       "        -0.97700842, -1.52752523, -1.37120689, -1.73343811, -1.06683864,\n",
       "        -1.15470054],\n",
       "       [-0.40824829, -0.40824829,  2.44948974,  0.        , -0.40824829,\n",
       "         0.        , -0.40824829, -0.40824829, -0.40824829, -1.01392684,\n",
       "        -1.13984316, -0.76376262, -0.36084392,  0.69337525, -1.22778412,\n",
       "        -1.15470054],\n",
       "       [-0.40824829, -0.40824829, -0.40824829,  0.        , -0.40824829,\n",
       "         0.        , -0.40824829, -0.40824829,  2.44948974, -0.488187  ,\n",
       "        -0.81417368, -0.76376262, -1.37120689, -0.2773501 , -0.72885312,\n",
       "        -1.15470054]])"
      ]
     },
     "execution_count": 7,
     "metadata": {},
     "output_type": "execute_result"
    }
   ],
   "source": [
    "# Lib para a normalização\n",
    "from sklearn.preprocessing import StandardScaler\n",
    "scale_X = StandardScaler()\n",
    "X_train = scale_X.fit_transform(X_train)\n",
    "X_test = scale_X.fit_transform(X_test)\n",
    "X_train"
   ]
  }
 ],
 "metadata": {
  "kernelspec": {
   "display_name": "venv",
   "language": "python",
   "name": "python3"
  },
  "language_info": {
   "codemirror_mode": {
    "name": "ipython",
    "version": 3
   },
   "file_extension": ".py",
   "mimetype": "text/x-python",
   "name": "python",
   "nbconvert_exporter": "python",
   "pygments_lexer": "ipython3",
   "version": "3.11.2"
  },
  "orig_nbformat": 4
 },
 "nbformat": 4,
 "nbformat_minor": 2
}
