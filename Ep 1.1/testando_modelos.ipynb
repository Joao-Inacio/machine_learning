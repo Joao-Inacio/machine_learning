{
 "cells": [
  {
   "attachments": {},
   "cell_type": "markdown",
   "metadata": {},
   "source": [
    "# **Testando os Modelos de Regressão - Machine Learning 11**"
   ]
  },
  {
   "attachments": {},
   "cell_type": "markdown",
   "metadata": {},
   "source": [
    "### Bibliotecas"
   ]
  },
  {
   "cell_type": "code",
   "execution_count": 1,
   "metadata": {},
   "outputs": [],
   "source": [
    "# Libs\n",
    "import numpy as np\n",
    "import pandas as pd"
   ]
  },
  {
   "attachments": {},
   "cell_type": "markdown",
   "metadata": {},
   "source": [
    "### Base de Dados"
   ]
  },
  {
   "cell_type": "code",
   "execution_count": 2,
   "metadata": {},
   "outputs": [],
   "source": [
    "# Função de carregamento de dados\n",
    "def carregarDados(arquivo):\n",
    "    ds = pd.read_csv(arquivo, sep=';')\n",
    "    # Amostra\n",
    "    X = ds.iloc[:,:-1].values\n",
    "    # Variável independente \n",
    "    y = ds.iloc[:,-1].values\n",
    "    return X, y, ds"
   ]
  },
  {
   "attachments": {},
   "cell_type": "markdown",
   "metadata": {},
   "source": [
    "### Gráfico"
   ]
  },
  {
   "cell_type": "code",
   "execution_count": 3,
   "metadata": {},
   "outputs": [],
   "source": [
    "# Função de Plotar gráfico\n",
    "def plotarGraph(X_Points, y_Points, X_Line, y_Line):\n",
    "    import matplotlib.pyplot as plt\n",
    "    plt.scatter(X_Points, y_Points, color='red')\n",
    "    plt.plot(X_Line, y_Line, color='blue')\n",
    "    plt.title(\"Comparando pontos reais com a reta produzida pela regressão de floresta randômica.\")\n",
    "    plt.xlabel(\"Experiéncia em anos\")\n",
    "    plt.ylabel(\"Salário\")\n",
    "    plt.show()"
   ]
  },
  {
   "attachments": {},
   "cell_type": "markdown",
   "metadata": {},
   "source": [
    "### Regressão Linear"
   ]
  },
  {
   "cell_type": "code",
   "execution_count": 4,
   "metadata": {},
   "outputs": [],
   "source": [
    "# Função do Algorítimo de Regressão\n",
    "def regressaoLinear(X, y):\n",
    "    from sklearn.linear_model import LinearRegression\n",
    "    regressor = LinearRegression()\n",
    "    regressor.fit(X, y)\n",
    "\n",
    "    return regressor"
   ]
  },
  {
   "attachments": {},
   "cell_type": "markdown",
   "metadata": {},
   "source": [
    "### Regressão Polinomial "
   ]
  },
  {
   "cell_type": "code",
   "execution_count": 5,
   "metadata": {},
   "outputs": [],
   "source": [
    "# Função de regressão linear\n",
    "def regressaoLinearPolinomial(X, y, d):\n",
    "    from sklearn.preprocessing import PolynomialFeatures\n",
    "    polynomial_Features = PolynomialFeatures(degree = d)\n",
    "    X_Polynomial = polynomial_Features.fit_transform(X)\n",
    "    \n",
    "    from sklearn.linear_model import LinearRegression\n",
    "    polLinear_Regression = LinearRegression()\n",
    "    polLinear_Regression.fit(X_Polynomial, y)\n",
    "\n",
    "    return X_Polynomial, polLinear_Regression"
   ]
  },
  {
   "attachments": {},
   "cell_type": "markdown",
   "metadata": {},
   "source": [
    "### Regressão de Árvore de Decisão"
   ]
  },
  {
   "cell_type": "code",
   "execution_count": 6,
   "metadata": {},
   "outputs": [],
   "source": [
    "#  Função de Regressão de Árvore de Decisão\n",
    "def regressaoArvoreDecisao(X, y):\n",
    "    from sklearn.tree import DecisionTreeRegressor\n",
    "\n",
    "    regressorTree = DecisionTreeRegressor(random_state=42)\n",
    "    regressorTree.fit(X, y)\n",
    "\n",
    "    return regressorTree"
   ]
  },
  {
   "attachments": {},
   "cell_type": "markdown",
   "metadata": {},
   "source": [
    "### Regressão Floresta Aleatória"
   ]
  },
  {
   "cell_type": "code",
   "execution_count": 7,
   "metadata": {},
   "outputs": [],
   "source": [
    "#  Função de Regressão de Floresta Randômica\n",
    "def regressaoArvoreRandomica(X, y, n_Avores):\n",
    "    from sklearn.ensemble import RandomForestRegressor\n",
    "\n",
    "    regressoFloresta = RandomForestRegressor(n_estimators=n_Avores)\n",
    "    regressoFloresta.fit(X, y)\n",
    "\n",
    "    return regressoFloresta"
   ]
  },
  {
   "attachments": {},
   "cell_type": "markdown",
   "metadata": {},
   "source": [
    "### Rodando Todas as Funções"
   ]
  },
  {
   "cell_type": "code",
   "execution_count": 8,
   "metadata": {},
   "outputs": [],
   "source": [
    "# Função que roda todas as funções\n",
    "def rodarRegressao(dados):\n",
    "    from sklearn.metrics import r2_score\n",
    "    X, y, csv = carregarDados(dados)\n",
    "\n",
    "    regressor = regressaoLinear(X, y)\n",
    "    XPoly, polyLinearRegressor = regressaoLinearPolinomial(X, y, 4)\n",
    "    regressorTree = regressaoArvoreDecisao(X, y)\n",
    "    regressoFloresta = regressaoArvoreRandomica(X, y, 30)\n",
    "\n",
    "\n",
    "    print(f'Regressão Linear: {r2_score(y, regressor.predict(X))}')\n",
    "    print(f'Regressão Linear Polinomial: {r2_score(y, polyLinearRegressor.predict(XPoly))}')\n",
    "    print(f'Regressão Árvore Decisão: {r2_score(y, regressorTree.predict(X))}')\n",
    "    print(f'Regressão Árvore Randomica: {r2_score(y, regressoFloresta.predict(X))}')"
   ]
  },
  {
   "attachments": {},
   "cell_type": "markdown",
   "metadata": {},
   "source": [
    "### Resultados Finais "
   ]
  },
  {
   "cell_type": "code",
   "execution_count": 9,
   "metadata": {},
   "outputs": [
    {
     "name": "stdout",
     "output_type": "stream",
     "text": [
      "Regressão Linear: 0.9569566641435086\n",
      "Regressão Linear Polinomial: 0.9636560599375091\n",
      "Regressão Árvore Decisão: 0.9976748641432848\n",
      "Regressão Árvore Randomica: 0.9917873337796747\n"
     ]
    }
   ],
   "source": [
    "# Rodando as Funções\n",
    "rodarRegressao('../data/salary.csv')"
   ]
  }
 ],
 "metadata": {
  "kernelspec": {
   "display_name": "venv",
   "language": "python",
   "name": "python3"
  },
  "language_info": {
   "codemirror_mode": {
    "name": "ipython",
    "version": 3
   },
   "file_extension": ".py",
   "mimetype": "text/x-python",
   "name": "python",
   "nbconvert_exporter": "python",
   "pygments_lexer": "ipython3",
   "version": "3.11.2"
  },
  "orig_nbformat": 4
 },
 "nbformat": 4,
 "nbformat_minor": 2
}
