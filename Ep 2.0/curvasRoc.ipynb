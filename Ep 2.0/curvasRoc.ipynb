{
 "cells": [
  {
   "attachments": {},
   "cell_type": "markdown",
   "metadata": {},
   "source": [
    "# **Curvas ROC - Machine Learning 20**"
   ]
  },
  {
   "attachments": {},
   "cell_type": "markdown",
   "metadata": {},
   "source": [
    "### Bibliotecas"
   ]
  },
  {
   "cell_type": "code",
   "execution_count": 1,
   "metadata": {},
   "outputs": [],
   "source": [
    "# Libs\n",
    "import numpy as np\n",
    "import pandas as pd"
   ]
  },
  {
   "attachments": {},
   "cell_type": "markdown",
   "metadata": {},
   "source": [
    "### Base de Dados"
   ]
  },
  {
   "cell_type": "code",
   "execution_count": 2,
   "metadata": {},
   "outputs": [],
   "source": [
    "# Função de carregamento de dados\n",
    "def carregarDados(arquivo, deli):\n",
    "    ds = pd.read_csv(arquivo, sep=deli)\n",
    "    # Amostra\n",
    "    X = ds.iloc[:,:-1].values\n",
    "    # Variável independente \n",
    "    y = ds.iloc[:,-1].values\n",
    "    return X, y, ds"
   ]
  },
  {
   "attachments": {},
   "cell_type": "markdown",
   "metadata": {},
   "source": [
    "### Substituído Valores Faltante"
   ]
  },
  {
   "cell_type": "code",
   "execution_count": 3,
   "metadata": {},
   "outputs": [],
   "source": [
    "# Função de Substituição dos valores\n",
    "def valorFaltante(X, inicioColuna, fimColuna):\n",
    "    from sklearn.impute import SimpleImputer\n",
    "    imputer = SimpleImputer(missing_values=np.nan, strategy='median')\n",
    "    X[:,inicioColuna:fimColuna + 1] = imputer.fit_transform(X[:,inicioColuna:fimColuna + 1])\n",
    "    return X"
   ]
  },
  {
   "attachments": {},
   "cell_type": "markdown",
   "metadata": {},
   "source": [
    "### Transformando os valores"
   ]
  },
  {
   "cell_type": "code",
   "execution_count": 4,
   "metadata": {},
   "outputs": [],
   "source": [
    "# Função de Transformação dos Valores\n",
    "def transform(X):\n",
    "    from sklearn.preprocessing import LabelEncoder\n",
    "    labelencoder_X = LabelEncoder()\n",
    "    X[:, 0] = labelencoder_X.fit_transform(X[:, 0])\n",
    "\n",
    "    #one hot encoding\n",
    "    D = pd.get_dummies(X[:,0]).values\n",
    "    \n",
    "    X = X[:,1:]\n",
    "    for ii in range(0, D.shape[1]):\n",
    "        X = np.insert(X, X.shape[1], D[:,ii], axis=1)\n",
    "    X = X[:,:X.shape[1] - 1]\n",
    "\n",
    "    return X"
   ]
  },
  {
   "attachments": {},
   "cell_type": "markdown",
   "metadata": {},
   "source": [
    "### Dividindo a base de Treino e Teste"
   ]
  },
  {
   "cell_type": "code",
   "execution_count": 5,
   "metadata": {},
   "outputs": [],
   "source": [
    "# Função de Treino e Teste\n",
    "def treinoTeste(X, y, testSize):\n",
    "    from sklearn.model_selection import train_test_split\n",
    "    XTrain, XTest, yTrain, yTest = train_test_split(X, y, test_size = testSize)\n",
    "    return XTrain, XTest, yTrain, yTest"
   ]
  },
  {
   "attachments": {},
   "cell_type": "markdown",
   "metadata": {},
   "source": [
    "### Normalizando o Conjunto de Dados"
   ]
  },
  {
   "cell_type": "code",
   "execution_count": 6,
   "metadata": {},
   "outputs": [],
   "source": [
    "# Função de Normalização de dados\n",
    "def normalizarDados(X):\n",
    "    from sklearn.preprocessing import StandardScaler\n",
    "    scaleobj = StandardScaler()\n",
    "    X = scaleobj.fit_transform(X.astype(float))\n",
    "\n",
    "    return X, scaleobj"
   ]
  },
  {
   "attachments": {},
   "cell_type": "markdown",
   "metadata": {},
   "source": [
    "### Regressão Logística "
   ]
  },
  {
   "cell_type": "code",
   "execution_count": 7,
   "metadata": {},
   "outputs": [],
   "source": [
    "# Função do Algorítimo de Regressão Logística\n",
    "def regressaoLogistica(X_train, y_train, X_test):\n",
    "    from sklearn.linear_model import LogisticRegression\n",
    "\n",
    "    regressor = LogisticRegression(solver='lbfgs')\n",
    "    regressor.fit(X_train[0], y_train)\n",
    "\n",
    "    return regressor"
   ]
  },
  {
   "attachments": {},
   "cell_type": "markdown",
   "metadata": {},
   "source": [
    "### ROC multiclasse One-vs-Rest"
   ]
  },
  {
   "cell_type": "code",
   "execution_count": 8,
   "metadata": {},
   "outputs": [],
   "source": [
    "def rodarRoc(y_score, y_test):\n",
    "    from sklearn.metrics import roc_curve, auc\n",
    "    import matplotlib.pyplot as plt\n",
    "\n",
    "    fpr, tpr, thresholds = roc_curve(y_test, y_score)\n",
    "    areaUnderCurve = auc(fpr, tpr)\n",
    "\n",
    "    rocCurve = {}\n",
    "    rocCurve['taxa_falso_positivo'] = fpr\n",
    "    rocCurve['taxa_verdadeiro_positivo'] = tpr\n",
    "    rocCurve['area_sofrida'] = areaUnderCurve\n",
    "\n",
    "    plt.plot(fpr, tpr, label='Curva ROC (AUC = {:.2f})'.format(areaUnderCurve))\n",
    "    plt.plot([0, 1], [0, 1], 'k--')  # Linha pontilhada diagonal (linha de referência)\n",
    "    plt.xlabel('Taxa de Falso Positivo')\n",
    "    plt.ylabel('Taxa de Verdadeiro Positivo')\n",
    "    plt.title('Curva ROC')\n",
    "    plt.legend(loc='lower right')\n",
    "    plt.grid(True)\n",
    "    plt.show()"
   ]
  },
  {
   "attachments": {},
   "cell_type": "markdown",
   "metadata": {},
   "source": [
    "### Previsões do modelo"
   ]
  },
  {
   "cell_type": "code",
   "execution_count": 9,
   "metadata": {},
   "outputs": [],
   "source": [
    "# Função de previsão\n",
    "def previsaoModelo(regressor , X_test):\n",
    "    previsao = regressor.predict(X_test[0])\n",
    "    return previsao"
   ]
  },
  {
   "attachments": {},
   "cell_type": "markdown",
   "metadata": {},
   "source": [
    "### Matriz de Confusão "
   ]
  },
  {
   "cell_type": "code",
   "execution_count": 10,
   "metadata": {},
   "outputs": [],
   "source": [
    "# Função de matriz de confusão \n",
    "def matrizConfusao(regressor, y_Test, y_Pred):\n",
    "    from sklearn.metrics import confusion_matrix\n",
    "    cm = confusion_matrix(y_Test, y_Pred)\n",
    "\n",
    "    return cm"
   ]
  },
  {
   "attachments": {},
   "cell_type": "markdown",
   "metadata": {},
   "source": [
    "### Valor da Accuracy "
   ]
  },
  {
   "cell_type": "code",
   "execution_count": 11,
   "metadata": {},
   "outputs": [],
   "source": [
    "# Função para calcular o valor de Accuracy\n",
    "def valorAccuracy(matrizConfusao):\n",
    "    valor_accuracy = (matrizConfusao[0][0] + matrizConfusao[1][1]) / (matrizConfusao[0][0] + matrizConfusao[1][0] + matrizConfusao[0][1] + matrizConfusao[1][1])\n",
    "    print(valor_accuracy * 100)"
   ]
  },
  {
   "attachments": {},
   "cell_type": "markdown",
   "metadata": {},
   "source": [
    "### Rodando Todas as Funções"
   ]
  },
  {
   "cell_type": "code",
   "execution_count": 12,
   "metadata": {},
   "outputs": [],
   "source": [
    "# Função que roda todas as funções\n",
    "def rodarRegressao(dados):\n",
    "    X, y, csv = carregarDados(dados, ',')\n",
    "    X = valorFaltante(X, 2, 3)\n",
    "\n",
    "    X = transform(X)\n",
    "    X = transform(X)\n",
    "\n",
    "    XTrain, XTest, yTrain, yTest = treinoTeste(X, y, 0.15)\n",
    "    XTrain = normalizarDados(XTrain)\n",
    "    XTest = normalizarDados(XTest)\n",
    "\n",
    "    regressor = regressaoLogistica(XTrain, yTrain, XTest)\n",
    "    y_pred = previsaoModelo(regressor, XTest)\n",
    "\n",
    "    return rodarRoc(y_pred, yTest)"
   ]
  },
  {
   "attachments": {},
   "cell_type": "markdown",
   "metadata": {},
   "source": [
    "### Resultado Final"
   ]
  },
  {
   "cell_type": "code",
   "execution_count": 13,
   "metadata": {},
   "outputs": [
    {
     "data": {
      "image/png": "[encoded data removed]",
      "text/plain": [
       "<Figure size 640x480 with 1 Axes>"
      ]
     },
     "metadata": {},
     "output_type": "display_data"
    }
   ],
   "source": [
    "# Rodando a função \n",
    "confusionMatrix = rodarRegressao('../data/titanic.csv')\n"
   ]
  }
 ],
 "metadata": {
  "kernelspec": {
   "display_name": "venv",
   "language": "python",
   "name": "python3"
  },
  "language_info": {
   "codemirror_mode": {
    "name": "ipython",
    "version": 3
   },
   "file_extension": ".py",
   "mimetype": "text/x-python",
   "name": "python",
   "nbconvert_exporter": "python",
   "pygments_lexer": "ipython3",
   "version": "3.11.4"
  },
  "orig_nbformat": 4
 },
 "nbformat": 4,
 "nbformat_minor": 2
}
