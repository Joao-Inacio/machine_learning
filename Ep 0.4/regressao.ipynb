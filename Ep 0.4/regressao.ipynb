{
 "cells": [
  {
   "attachments": {},
   "cell_type": "markdown",
   "metadata": {},
   "source": [
    "# Regressão Linear - Machine Learning 04"
   ]
  },
  {
   "attachments": {},
   "cell_type": "markdown",
   "metadata": {},
   "source": [
    "### Importação"
   ]
  },
  {
   "cell_type": "code",
   "execution_count": 1,
   "metadata": {},
   "outputs": [],
   "source": [
    "# Libs\n",
    "import numpy as np\n",
    "import pandas as pd\n",
    "import preprocessing as pre"
   ]
  },
  {
   "attachments": {},
   "cell_type": "markdown",
   "metadata": {},
   "source": [
    "### Base de dados"
   ]
  },
  {
   "cell_type": "code",
   "execution_count": 2,
   "metadata": {},
   "outputs": [],
   "source": [
    "# Função de carregamento de dados\n",
    "def carregarDados(arquivo):\n",
    "    ds = pd.read_csv(arquivo, sep=';')\n",
    "    # Amostra\n",
    "    X = ds.iloc[:,:-1].values\n",
    "    # Variável independente \n",
    "    y = ds.iloc[:,-1].values\n",
    "    return X, y"
   ]
  },
  {
   "attachments": {},
   "cell_type": "markdown",
   "metadata": {},
   "source": [
    "### Substituído Valores Faltante  "
   ]
  },
  {
   "cell_type": "code",
   "execution_count": 3,
   "metadata": {},
   "outputs": [],
   "source": [
    "# Função de Substituição dos valores\n",
    "def valorFaltante(X, inicioColuna, fimColuna):\n",
    "    from sklearn.impute import SimpleImputer\n",
    "    imputer = SimpleImputer(missing_values=np.nan, strategy='median')\n",
    "    X[:,inicioColuna:fimColuna + 1] = imputer.fit_transform(X[:,inicioColuna:fimColuna + 1])\n",
    "    return X"
   ]
  },
  {
   "attachments": {},
   "cell_type": "markdown",
   "metadata": {},
   "source": [
    "### Transformando os valores"
   ]
  },
  {
   "cell_type": "code",
   "execution_count": 4,
   "metadata": {},
   "outputs": [],
   "source": [
    "# Função de Transformação dos Valores\n",
    "def transform(X, i):\n",
    "    from sklearn.preprocessing import LabelEncoder\n",
    "    labelencoder_X = LabelEncoder()\n",
    "    X[:, i] = labelencoder_X.fit_transform(X[:, i])\n",
    "\n",
    "    #one hot encoding\n",
    "    D = pd.get_dummies(X[:,i]).values\n",
    "    if(i == 0):\n",
    "        X = X[:,1:]\n",
    "        X = np.insert(X, 0, D, axis=1)\n",
    "\n",
    "        #removendo dummy variable trap\n",
    "        X = X[:,1:]\n",
    "    else:\n",
    "        X = X[:,:i]\n",
    "        for j in range(0, D.shape[1]):\n",
    "            X = np.insert(X, i, D[:,j], axis=1)\n",
    "\n",
    "        #removendo dummy variable trap\n",
    "        X = X[:,:-1]\n",
    "    return X"
   ]
  },
  {
   "attachments": {},
   "cell_type": "markdown",
   "metadata": {},
   "source": [
    "### Dividindo a base de Treino e Teste"
   ]
  },
  {
   "cell_type": "code",
   "execution_count": 5,
   "metadata": {},
   "outputs": [],
   "source": [
    "# Função de Treino e Teste\n",
    "def treinoTeste(X, y, testSize):\n",
    "    from sklearn.model_selection import train_test_split\n",
    "    XTrain, XTest, yTrain, yTest = train_test_split(X, y, test_size = testSize)\n",
    "    return XTrain, XTest, yTrain, yTest"
   ]
  },
  {
   "attachments": {},
   "cell_type": "markdown",
   "metadata": {},
   "source": [
    "### Normalizando o Conjunto de Dados"
   ]
  },
  {
   "cell_type": "code",
   "execution_count": 6,
   "metadata": {},
   "outputs": [],
   "source": [
    "# Função de Normalização de dados\n",
    "def normalizarDados(train, test):\n",
    "    from sklearn.preprocessing import StandardScaler\n",
    "    scaleX = StandardScaler()\n",
    "    train = scaleX.fit_transform(train)\n",
    "    test = scaleX.fit_transform(test)\n",
    "    return train, test"
   ]
  },
  {
   "attachments": {},
   "cell_type": "markdown",
   "metadata": {},
   "source": [
    "### Regressão Linear"
   ]
  },
  {
   "cell_type": "code",
   "execution_count": 7,
   "metadata": {},
   "outputs": [],
   "source": [
    "# Função do Algorítimo de Regressão\n",
    "def regressaoLinear(X_train, X_test, y_train, y_test):\n",
    "    import matplotlib.pyplot as plt\n",
    "    from sklearn.linear_model import LinearRegression\n",
    "\n",
    "    regressor = LinearRegression()\n",
    "    regressor.fit(X_train, y_train)\n",
    "    # yPred = regressor.predict(X_test)\n",
    "    \n",
    "    plt.scatter(X_test[:,-1], y_test, color=\"red\")\n",
    "    plt.plot(X_test[:,-1], regressor.predict(X_test), color=\"blue\")\n",
    "    plt.title(\"Inscritos x Visualizações (SVBR)\")\n",
    "    plt.xlabel(\"Total de Inscritos\")\n",
    "    plt.ylabel(\"Total de Visualizações\")\n",
    "    plt.show()"
   ]
  },
  {
   "attachments": {},
   "cell_type": "markdown",
   "metadata": {},
   "source": [
    "### Rodando Todas as Funções"
   ]
  },
  {
   "cell_type": "code",
   "execution_count": 8,
   "metadata": {},
   "outputs": [],
   "source": [
    "# Função que roda todas as funções\n",
    "def rodarRegressao(dados):\n",
    "    X, y = carregarDados(dados)\n",
    "    X = valorFaltante(X, 1, X.shape[1])\n",
    "    X = transform(X, 0)\n",
    "    XTrain, XTest, yTrain, yTest = treinoTeste(X, y, 0.8)\n",
    "    X = normalizarDados(XTrain, XTest)\n",
    "    regressaoLinear( XTrain, XTest, yTrain, yTest)"
   ]
  },
  {
   "attachments": {},
   "cell_type": "markdown",
   "metadata": {},
   "source": [
    "### Resultado Final"
   ]
  },
  {
   "cell_type": "code",
   "execution_count": 9,
   "metadata": {},
   "outputs": [
    {
     "data": {
      "image/png": "[encoded data removed]",
      "text/plain": [
       "<Figure size 640x480 with 1 Axes>"
      ]
     },
     "metadata": {},
     "output_type": "display_data"
    }
   ],
   "source": [
    "# # Rodando a função \n",
    "rodarRegressao('../data/svbr.csv')"
   ]
  }
 ],
 "metadata": {
  "kernelspec": {
   "display_name": "venv",
   "language": "python",
   "name": "python3"
  },
  "language_info": {
   "codemirror_mode": {
    "name": "ipython",
    "version": 3
   },
   "file_extension": ".py",
   "mimetype": "text/x-python",
   "name": "python",
   "nbconvert_exporter": "python",
   "pygments_lexer": "ipython3",
   "version": "3.11.2"
  },
  "orig_nbformat": 4
 },
 "nbformat": 4,
 "nbformat_minor": 2
}
